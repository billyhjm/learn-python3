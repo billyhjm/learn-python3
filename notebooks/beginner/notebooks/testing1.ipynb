{
 "cells": [
  {
   "cell_type": "markdown",
   "metadata": {},
   "source": [
    "# Testing with [pytest](https://docs.pytest.org/en/latest/) - part 1"
   ]
  },
  {
   "cell_type": "markdown",
   "metadata": {},
   "source": [
    "## Why to write tests?\n",
    "* Who wants to perform manual testing?\n",
    "* When you fix a bug or add a new feature, tests are a way to verify that you did not break anything on the way\n",
    "* If you have clear requirements, you can have matching test(s) for each requirement\n",
    "* You don't have to be afraid of refactoring\n",
    "* Tests document your implementation - they show other people use cases of your implementation\n",
    "* This list is endless..."
   ]
  },
  {
   "cell_type": "markdown",
   "metadata": {},
   "source": [
    "## [Test-driven development](https://en.wikipedia.org/wiki/Test-driven_development) aka TDD\n",
    "In short, the basic idea of TDD is to write tests before writing the actual implementation. Maybe the most significant benefit of the approach is that the developer focuses on writing tests which match with what the program should do. Whereas if the tests are written after the actual implementation, there is a high risk for rushing tests which just show green light for the already written logic.\n",
    "\n",
    "Tests are first class citizens in modern, agile software development, which is why it's important to start thinking TDD early during your Python learning path. \n",
    "\n",
    "The workflow of TDD can be summarized as follows:\n",
    "1. Add a test case(s) for the change / feature / bug fix you are going to implement\n",
    "2. Run all tests and check that the new one fails\n",
    "3. Implement required changes\n",
    "4. Run tests and verify that all pass\n",
    "5. Refactor"
   ]
  },
  {
   "cell_type": "markdown",
   "metadata": {},
   "source": [
    "### Running pytest inside notebooks\n",
    "These are the steps required to run pytest inside Jupyter cells. You can copy the content of this cell to the top of your notebook which contains tests."
   ]
  },
  {
   "cell_type": "code",
   "execution_count": 3,
   "metadata": {},
   "outputs": [
    {
     "name": "stdout",
     "output_type": "stream",
     "text": [
      "Requirement already satisfied: ipytest in /Users/jongmoonha/opt/anaconda3/lib/python3.9/site-packages (0.12.0)\n",
      "Requirement already satisfied: packaging in /Users/jongmoonha/opt/anaconda3/lib/python3.9/site-packages (from ipytest) (21.3)\n",
      "Requirement already satisfied: ipython in /Users/jongmoonha/opt/anaconda3/lib/python3.9/site-packages (from ipytest) (8.2.0)\n",
      "Requirement already satisfied: pytest>=5.4 in /Users/jongmoonha/opt/anaconda3/lib/python3.9/site-packages (from ipytest) (7.1.1)\n",
      "Requirement already satisfied: attrs>=19.2.0 in /Users/jongmoonha/opt/anaconda3/lib/python3.9/site-packages (from pytest>=5.4->ipytest) (21.4.0)\n",
      "Requirement already satisfied: iniconfig in /Users/jongmoonha/opt/anaconda3/lib/python3.9/site-packages (from pytest>=5.4->ipytest) (1.1.1)\n",
      "Requirement already satisfied: pluggy<2.0,>=0.12 in /Users/jongmoonha/opt/anaconda3/lib/python3.9/site-packages (from pytest>=5.4->ipytest) (1.0.0)\n",
      "Requirement already satisfied: py>=1.8.2 in /Users/jongmoonha/opt/anaconda3/lib/python3.9/site-packages (from pytest>=5.4->ipytest) (1.11.0)\n",
      "Requirement already satisfied: tomli>=1.0.0 in /Users/jongmoonha/opt/anaconda3/lib/python3.9/site-packages (from pytest>=5.4->ipytest) (1.2.2)\n",
      "Requirement already satisfied: jedi>=0.16 in /Users/jongmoonha/opt/anaconda3/lib/python3.9/site-packages (from ipython->ipytest) (0.18.1)\n",
      "Requirement already satisfied: prompt-toolkit!=3.0.0,!=3.0.1,<3.1.0,>=2.0.0 in /Users/jongmoonha/opt/anaconda3/lib/python3.9/site-packages (from ipython->ipytest) (3.0.20)\n",
      "Requirement already satisfied: matplotlib-inline in /Users/jongmoonha/opt/anaconda3/lib/python3.9/site-packages (from ipython->ipytest) (0.1.2)\n",
      "Requirement already satisfied: backcall in /Users/jongmoonha/opt/anaconda3/lib/python3.9/site-packages (from ipython->ipytest) (0.2.0)\n",
      "Requirement already satisfied: pickleshare in /Users/jongmoonha/opt/anaconda3/lib/python3.9/site-packages (from ipython->ipytest) (0.7.5)\n",
      "Requirement already satisfied: pygments>=2.4.0 in /Users/jongmoonha/opt/anaconda3/lib/python3.9/site-packages (from ipython->ipytest) (2.11.2)\n",
      "Requirement already satisfied: setuptools>=18.5 in /Users/jongmoonha/opt/anaconda3/lib/python3.9/site-packages (from ipython->ipytest) (61.2.0)\n",
      "Requirement already satisfied: stack-data in /Users/jongmoonha/opt/anaconda3/lib/python3.9/site-packages (from ipython->ipytest) (0.2.0)\n",
      "Requirement already satisfied: decorator in /Users/jongmoonha/opt/anaconda3/lib/python3.9/site-packages (from ipython->ipytest) (5.1.1)\n",
      "Requirement already satisfied: appnope in /Users/jongmoonha/opt/anaconda3/lib/python3.9/site-packages (from ipython->ipytest) (0.1.2)\n",
      "Requirement already satisfied: pexpect>4.3 in /Users/jongmoonha/opt/anaconda3/lib/python3.9/site-packages (from ipython->ipytest) (4.8.0)\n",
      "Requirement already satisfied: traitlets>=5 in /Users/jongmoonha/opt/anaconda3/lib/python3.9/site-packages (from ipython->ipytest) (5.1.1)\n",
      "Requirement already satisfied: parso<0.9.0,>=0.8.0 in /Users/jongmoonha/opt/anaconda3/lib/python3.9/site-packages (from jedi>=0.16->ipython->ipytest) (0.8.3)\n",
      "Requirement already satisfied: ptyprocess>=0.5 in /Users/jongmoonha/opt/anaconda3/lib/python3.9/site-packages (from pexpect>4.3->ipython->ipytest) (0.7.0)\n",
      "Requirement already satisfied: wcwidth in /Users/jongmoonha/opt/anaconda3/lib/python3.9/site-packages (from prompt-toolkit!=3.0.0,!=3.0.1,<3.1.0,>=2.0.0->ipython->ipytest) (0.2.5)\n",
      "Requirement already satisfied: pyparsing!=3.0.5,>=2.0.2 in /Users/jongmoonha/opt/anaconda3/lib/python3.9/site-packages (from packaging->ipytest) (3.0.4)\n",
      "Requirement already satisfied: asttokens in /Users/jongmoonha/opt/anaconda3/lib/python3.9/site-packages (from stack-data->ipython->ipytest) (2.0.5)\n",
      "Requirement already satisfied: executing in /Users/jongmoonha/opt/anaconda3/lib/python3.9/site-packages (from stack-data->ipython->ipytest) (0.8.3)\n",
      "Requirement already satisfied: pure-eval in /Users/jongmoonha/opt/anaconda3/lib/python3.9/site-packages (from stack-data->ipython->ipytest) (0.2.2)\n",
      "Requirement already satisfied: six in /Users/jongmoonha/opt/anaconda3/lib/python3.9/site-packages (from asttokens->stack-data->ipython->ipytest) (1.16.0)\n",
      "Requirement already satisfied: pytest in /Users/jongmoonha/opt/anaconda3/lib/python3.9/site-packages (7.1.1)\n",
      "Requirement already satisfied: attrs>=19.2.0 in /Users/jongmoonha/opt/anaconda3/lib/python3.9/site-packages (from pytest) (21.4.0)\n",
      "Requirement already satisfied: iniconfig in /Users/jongmoonha/opt/anaconda3/lib/python3.9/site-packages (from pytest) (1.1.1)\n",
      "Requirement already satisfied: packaging in /Users/jongmoonha/opt/anaconda3/lib/python3.9/site-packages (from pytest) (21.3)\n",
      "Requirement already satisfied: pluggy<2.0,>=0.12 in /Users/jongmoonha/opt/anaconda3/lib/python3.9/site-packages (from pytest) (1.0.0)\n",
      "Requirement already satisfied: py>=1.8.2 in /Users/jongmoonha/opt/anaconda3/lib/python3.9/site-packages (from pytest) (1.11.0)\n",
      "Requirement already satisfied: tomli>=1.0.0 in /Users/jongmoonha/opt/anaconda3/lib/python3.9/site-packages (from pytest) (1.2.2)\n",
      "Requirement already satisfied: pyparsing!=3.0.5,>=2.0.2 in /Users/jongmoonha/opt/anaconda3/lib/python3.9/site-packages (from packaging->pytest) (3.0.4)\n",
      "Requirement already satisfied: ipytest in /Users/jongmoonha/opt/anaconda3/lib/python3.9/site-packages (0.12.0)\n",
      "Requirement already satisfied: ipython in /Users/jongmoonha/opt/anaconda3/lib/python3.9/site-packages (from ipytest) (8.2.0)\n",
      "Requirement already satisfied: packaging in /Users/jongmoonha/opt/anaconda3/lib/python3.9/site-packages (from ipytest) (21.3)\n",
      "Requirement already satisfied: pytest>=5.4 in /Users/jongmoonha/opt/anaconda3/lib/python3.9/site-packages (from ipytest) (7.1.1)\n",
      "Requirement already satisfied: attrs>=19.2.0 in /Users/jongmoonha/opt/anaconda3/lib/python3.9/site-packages (from pytest>=5.4->ipytest) (21.4.0)\n",
      "Requirement already satisfied: iniconfig in /Users/jongmoonha/opt/anaconda3/lib/python3.9/site-packages (from pytest>=5.4->ipytest) (1.1.1)\n",
      "Requirement already satisfied: pluggy<2.0,>=0.12 in /Users/jongmoonha/opt/anaconda3/lib/python3.9/site-packages (from pytest>=5.4->ipytest) (1.0.0)\n",
      "Requirement already satisfied: py>=1.8.2 in /Users/jongmoonha/opt/anaconda3/lib/python3.9/site-packages (from pytest>=5.4->ipytest) (1.11.0)\n",
      "Requirement already satisfied: tomli>=1.0.0 in /Users/jongmoonha/opt/anaconda3/lib/python3.9/site-packages (from pytest>=5.4->ipytest) (1.2.2)\n",
      "Requirement already satisfied: jedi>=0.16 in /Users/jongmoonha/opt/anaconda3/lib/python3.9/site-packages (from ipython->ipytest) (0.18.1)\n",
      "Requirement already satisfied: setuptools>=18.5 in /Users/jongmoonha/opt/anaconda3/lib/python3.9/site-packages (from ipython->ipytest) (61.2.0)\n",
      "Requirement already satisfied: stack-data in /Users/jongmoonha/opt/anaconda3/lib/python3.9/site-packages (from ipython->ipytest) (0.2.0)\n",
      "Requirement already satisfied: appnope in /Users/jongmoonha/opt/anaconda3/lib/python3.9/site-packages (from ipython->ipytest) (0.1.2)\n",
      "Requirement already satisfied: pickleshare in /Users/jongmoonha/opt/anaconda3/lib/python3.9/site-packages (from ipython->ipytest) (0.7.5)\n",
      "Requirement already satisfied: traitlets>=5 in /Users/jongmoonha/opt/anaconda3/lib/python3.9/site-packages (from ipython->ipytest) (5.1.1)\n",
      "Requirement already satisfied: decorator in /Users/jongmoonha/opt/anaconda3/lib/python3.9/site-packages (from ipython->ipytest) (5.1.1)\n",
      "Requirement already satisfied: prompt-toolkit!=3.0.0,!=3.0.1,<3.1.0,>=2.0.0 in /Users/jongmoonha/opt/anaconda3/lib/python3.9/site-packages (from ipython->ipytest) (3.0.20)\n",
      "Requirement already satisfied: pygments>=2.4.0 in /Users/jongmoonha/opt/anaconda3/lib/python3.9/site-packages (from ipython->ipytest) (2.11.2)\n",
      "Requirement already satisfied: matplotlib-inline in /Users/jongmoonha/opt/anaconda3/lib/python3.9/site-packages (from ipython->ipytest) (0.1.2)\n",
      "Requirement already satisfied: pexpect>4.3 in /Users/jongmoonha/opt/anaconda3/lib/python3.9/site-packages (from ipython->ipytest) (4.8.0)\n",
      "Requirement already satisfied: backcall in /Users/jongmoonha/opt/anaconda3/lib/python3.9/site-packages (from ipython->ipytest) (0.2.0)\n",
      "Requirement already satisfied: parso<0.9.0,>=0.8.0 in /Users/jongmoonha/opt/anaconda3/lib/python3.9/site-packages (from jedi>=0.16->ipython->ipytest) (0.8.3)\n",
      "Requirement already satisfied: ptyprocess>=0.5 in /Users/jongmoonha/opt/anaconda3/lib/python3.9/site-packages (from pexpect>4.3->ipython->ipytest) (0.7.0)\n",
      "Requirement already satisfied: wcwidth in /Users/jongmoonha/opt/anaconda3/lib/python3.9/site-packages (from prompt-toolkit!=3.0.0,!=3.0.1,<3.1.0,>=2.0.0->ipython->ipytest) (0.2.5)\n",
      "Requirement already satisfied: pyparsing!=3.0.5,>=2.0.2 in /Users/jongmoonha/opt/anaconda3/lib/python3.9/site-packages (from packaging->ipytest) (3.0.4)\n",
      "Requirement already satisfied: asttokens in /Users/jongmoonha/opt/anaconda3/lib/python3.9/site-packages (from stack-data->ipython->ipytest) (2.0.5)\n",
      "Requirement already satisfied: executing in /Users/jongmoonha/opt/anaconda3/lib/python3.9/site-packages (from stack-data->ipython->ipytest) (0.8.3)\n",
      "Requirement already satisfied: pure-eval in /Users/jongmoonha/opt/anaconda3/lib/python3.9/site-packages (from stack-data->ipython->ipytest) (0.2.2)\n",
      "Requirement already satisfied: six in /Users/jongmoonha/opt/anaconda3/lib/python3.9/site-packages (from asttokens->stack-data->ipython->ipytest) (1.16.0)\n"
     ]
    },
    {
     "ename": "ModuleNotFoundError",
     "evalue": "No module named 'ipytest.magics'",
     "output_type": "error",
     "traceback": [
      "\u001b[0;31m---------------------------------------------------------------------------\u001b[0m",
      "\u001b[0;31mModuleNotFoundError\u001b[0m                       Traceback (most recent call last)",
      "\u001b[1;32m/Users/jongmoonha/jmha/VSCODE/learn-python3/notebooks/beginner/notebooks/testing1.ipynb 셀 5\u001b[0m in \u001b[0;36m<cell line: 9>\u001b[0;34m()\u001b[0m\n\u001b[1;32m      <a href='vscode-notebook-cell:/Users/jongmoonha/jmha/VSCODE/learn-python3/notebooks/beginner/notebooks/testing1.ipynb#W4sZmlsZQ%3D%3D?line=5'>6</a>\u001b[0m get_ipython()\u001b[39m.\u001b[39msystem(\u001b[39m'\u001b[39m\u001b[39m{sys.executable}\u001b[39;00m\u001b[39m -m pip install pytest\u001b[39m\u001b[39m'\u001b[39m)\n\u001b[1;32m      <a href='vscode-notebook-cell:/Users/jongmoonha/jmha/VSCODE/learn-python3/notebooks/beginner/notebooks/testing1.ipynb#W4sZmlsZQ%3D%3D?line=6'>7</a>\u001b[0m get_ipython()\u001b[39m.\u001b[39msystem(\u001b[39m'\u001b[39m\u001b[39m{sys.executable}\u001b[39;00m\u001b[39m -m pip install ipytest\u001b[39m\u001b[39m'\u001b[39m)\n\u001b[0;32m----> <a href='vscode-notebook-cell:/Users/jongmoonha/jmha/VSCODE/learn-python3/notebooks/beginner/notebooks/testing1.ipynb#W4sZmlsZQ%3D%3D?line=8'>9</a>\u001b[0m \u001b[39mimport\u001b[39;00m \u001b[39mipytest\u001b[39;00m\u001b[39m.\u001b[39;00m\u001b[39mmagics\u001b[39;00m\n\u001b[1;32m     <a href='vscode-notebook-cell:/Users/jongmoonha/jmha/VSCODE/learn-python3/notebooks/beginner/notebooks/testing1.ipynb#W4sZmlsZQ%3D%3D?line=9'>10</a>\u001b[0m \u001b[39mimport\u001b[39;00m \u001b[39mpytest\u001b[39;00m\n\u001b[1;32m     <a href='vscode-notebook-cell:/Users/jongmoonha/jmha/VSCODE/learn-python3/notebooks/beginner/notebooks/testing1.ipynb#W4sZmlsZQ%3D%3D?line=11'>12</a>\u001b[0m \u001b[39m# Filename has to be set explicitly for ipytest \u001b[39;00m\n",
      "\u001b[0;31mModuleNotFoundError\u001b[0m: No module named 'ipytest.magics'"
     ]
    }
   ],
   "source": [
    "# Let's make sure pytest and ipytest packages are installed\n",
    "# ipytest is required for running pytest inside Jupyter notebooks\n",
    "!pip install ipytest\n",
    "\n",
    "import sys\n",
    "!{sys.executable} -m pip install pytest\n",
    "!{sys.executable} -m pip install ipytest\n",
    "\n",
    "import ipytest.magics\n",
    "import pytest\n",
    "\n",
    "# Filename has to be set explicitly for ipytest \n",
    "__file__ = 'testing1.ipynb'"
   ]
  },
  {
   "cell_type": "markdown",
   "metadata": {},
   "source": [
    "## `pytest` test cases\n",
    "Let's consider we have a function called `sum_of_three_numbers` for which we want to write a test."
   ]
  },
  {
   "cell_type": "code",
   "execution_count": null,
   "metadata": {},
   "outputs": [],
   "source": [
    "# This would be in your e.g. implementation.py\n",
    "def sum_of_three_numbers(num1, num2, num3):\n",
    "    return num1 + num2 + num3"
   ]
  },
  {
   "cell_type": "markdown",
   "metadata": {},
   "source": [
    "Pytest test cases are actually quite similar as you have already seen in the exercises. Most of the exercises are structured like pytest test cases by dividing each exercise into three cells:\n",
    "1. Setup the variables used in the test\n",
    "2. Your implementation\n",
    "3. Verify that your implementation does what is wanted by using assertions\n",
    "\n",
    "See the example test case below to see the similarities between the exercises and common structure of test cases."
   ]
  },
  {
   "cell_type": "code",
   "execution_count": null,
   "metadata": {},
   "outputs": [],
   "source": [
    "%%run_pytest[clean]\n",
    "# Mention this at the top of cells which contain test(s)\n",
    "# This is only required for running pytest in Jupyter notebooks\n",
    "\n",
    "\n",
    "# This would be in your test_implementation.py\n",
    "def test_sum_of_three_numbers():\n",
    "    # 1. Setup the variables used in the test\n",
    "    num1 = 2\n",
    "    num2 = 3\n",
    "    num3 = 5\n",
    "    \n",
    "    # 2. Call the functionality you want to test\n",
    "    result = sum_of_three_numbers(num1, num2, num3)\n",
    "    \n",
    "    # 3. Verify that the outcome is expected\n",
    "    assert result == 10"
   ]
  },
  {
   "cell_type": "markdown",
   "metadata": {},
   "source": [
    "Now go ahead and change the line `assert result == 10` such that the assertion fails to see the output of a failed test."
   ]
  }
 ],
 "metadata": {
  "kernelspec": {
   "display_name": "Python 3.9.12 ('base')",
   "language": "python",
   "name": "python3"
  },
  "language_info": {
   "codemirror_mode": {
    "name": "ipython",
    "version": 3
   },
   "file_extension": ".py",
   "mimetype": "text/x-python",
   "name": "python",
   "nbconvert_exporter": "python",
   "pygments_lexer": "ipython3",
   "version": "3.9.12"
  },
  "vscode": {
   "interpreter": {
    "hash": "29354f97b5e4f95b43552da9fe04c297e6e7a442dd74c04d43b893bef857b78d"
   }
  }
 },
 "nbformat": 4,
 "nbformat_minor": 2
}
